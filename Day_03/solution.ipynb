{
 "cells": [
  {
   "cell_type": "markdown",
   "metadata": {},
   "source": [
    "# Day 3\n",
    "![drawing of a Christmas elf sitting on a tropical beach, surrounded by backpacks, tents and backpacks in the background](rucksacks.jpg \"Rucksacks\")\n",
    "## Part 1"
   ]
  },
  {
   "cell_type": "code",
   "execution_count": 1,
   "metadata": {},
   "outputs": [
    {
     "name": "stdout",
     "output_type": "stream",
     "text": [
      "The total priority of common items in a rucksack is 7863\n"
     ]
    }
   ],
   "source": [
    "with open(\"input.txt\", \"r\") as file:\n",
    "    rucksacks = [line.strip() for line in file.readlines()]\n",
    "total_priority_1 = 0\n",
    "for rucksack in rucksacks:\n",
    "    length = len(rucksack)\n",
    "    common = set(list(rucksack[:length//2])).intersection(set(list(rucksack[length//2:])))\n",
    "    for item in common:\n",
    "        if item.isupper():\n",
    "            total_priority_1 += ord(item) - ord(\"A\") + 27\n",
    "        else:\n",
    "            total_priority_1 += ord(item) - ord(\"a\") + 1\n",
    "print(\"The total priority of common items in a rucksack is\", total_priority_1)"
   ]
  },
  {
   "cell_type": "markdown",
   "metadata": {},
   "source": [
    "## Part 2"
   ]
  },
  {
   "cell_type": "code",
   "execution_count": 2,
   "metadata": {},
   "outputs": [
    {
     "name": "stdout",
     "output_type": "stream",
     "text": [
      "The total priority of badges is 2488\n"
     ]
    }
   ],
   "source": [
    "total_priority_2 = 0\n",
    "for i in range(len(rucksacks)//3):\n",
    "    common = set(list(rucksacks[3*i])).intersection(set(list(rucksacks[3*i+1]))).intersection(set(list(rucksacks[3*i+2])))\n",
    "    for item in common:\n",
    "        if item.isupper():\n",
    "            total_priority_2 += ord(item) - ord(\"A\") + 27\n",
    "        else:\n",
    "            total_priority_2 += ord(item) - ord(\"a\") + 1\n",
    "print(\"The total priority of badges is\", total_priority_2)"
   ]
  }
 ],
 "metadata": {
  "kernelspec": {
   "display_name": "Python 3.9.9 64-bit",
   "language": "python",
   "name": "python3"
  },
  "language_info": {
   "codemirror_mode": {
    "name": "ipython",
    "version": 3
   },
   "file_extension": ".py",
   "mimetype": "text/x-python",
   "name": "python",
   "nbconvert_exporter": "python",
   "pygments_lexer": "ipython3",
   "version": "3.10.7"
  },
  "orig_nbformat": 4,
  "vscode": {
   "interpreter": {
    "hash": "aee8b7b246df8f9039afb4144a1f6fd8d2ca17a180786b69acc140d282b71a49"
   }
  }
 },
 "nbformat": 4,
 "nbformat_minor": 2
}
