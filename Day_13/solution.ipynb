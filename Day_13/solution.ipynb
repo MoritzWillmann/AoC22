{
 "cells": [
  {
   "attachments": {},
   "cell_type": "markdown",
   "metadata": {},
   "source": [
    "# Day 13\n",
    "## Part 1"
   ]
  },
  {
   "cell_type": "code",
   "execution_count": 1,
   "metadata": {},
   "outputs": [
    {
     "name": "stdout",
     "output_type": "stream",
     "text": [
      "The sum of the indices is 5340\n"
     ]
    }
   ],
   "source": [
    "with open(\"input.txt\", \"r\") as file:\n",
    "    pairs = [[eval(lst) for lst in pair.rstrip(\"\\n\").split(\"\\n\")] for pair in file.read().split(\"\\n\\n\")]\n",
    "\n",
    "def compare(left, right):\n",
    "    if isinstance(left, int):\n",
    "        if isinstance(right, int):\n",
    "            if left == right:\n",
    "                return None\n",
    "            else:\n",
    "                return left < right\n",
    "        elif isinstance(right, list):\n",
    "            return compare([left], right)\n",
    "    elif isinstance(left, list):\n",
    "        if isinstance(right, int):\n",
    "            return compare(left, [right])\n",
    "        elif isinstance(right, list):\n",
    "            for (l, r) in zip(left, right):\n",
    "                c = compare(l, r)\n",
    "                if c is not None:\n",
    "                    return c\n",
    "            if len(left) == len(right):\n",
    "                return None\n",
    "            else:\n",
    "                return len(left) < len(right)\n",
    "\n",
    "index_sum = 0\n",
    "for i, pair in enumerate(pairs):\n",
    "    if compare(pair[0], pair[1]):\n",
    "        index_sum += i+1\n",
    "print(\"The sum of the indices is\", index_sum)"
   ]
  },
  {
   "attachments": {},
   "cell_type": "markdown",
   "metadata": {},
   "source": [
    "## Part 2"
   ]
  },
  {
   "cell_type": "code",
   "execution_count": 2,
   "metadata": {},
   "outputs": [
    {
     "name": "stdout",
     "output_type": "stream",
     "text": [
      "The decoder key is 21276\n"
     ]
    }
   ],
   "source": [
    "packets = sum(pairs, []) + [[[2]], [[6]]]\n",
    "\n",
    "class PacketComparator(list):\n",
    "    def __lt__(self, other):\n",
    "        return compare(self, other)\n",
    "\n",
    "packets.sort(key=PacketComparator)\n",
    "print(\"The decoder key is\", (packets.index([[2]]) + 1) * (packets.index([[6]]) + 1))\n"
   ]
  }
 ],
 "metadata": {
  "kernelspec": {
   "display_name": "Python 3",
   "language": "python",
   "name": "python3"
  },
  "language_info": {
   "codemirror_mode": {
    "name": "ipython",
    "version": 3
   },
   "file_extension": ".py",
   "mimetype": "text/x-python",
   "name": "python",
   "nbconvert_exporter": "python",
   "pygments_lexer": "ipython3",
   "version": "3.10.6"
  },
  "orig_nbformat": 4,
  "vscode": {
   "interpreter": {
    "hash": "e7370f93d1d0cde622a1f8e1c04877d8463912d04d973331ad4851f04de6915a"
   }
  }
 },
 "nbformat": 4,
 "nbformat_minor": 2
}
