{
 "cells": [
  {
   "cell_type": "markdown",
   "metadata": {},
   "source": [
    "# Day 2\n",
    "![drawing of two christmas elves playing rock paper scissors at a campfire with tents in the background, on a tropical beach](./rock_paper_scissors.jpg \"Rock Paper Scissors\")\n",
    "## Part 1"
   ]
  },
  {
   "cell_type": "code",
   "execution_count": 1,
   "metadata": {},
   "outputs": [],
   "source": [
    "with open(\"input.txt\", \"r\") as file:\n",
    "    matches = [line.strip().split(\" \") for line in file.readlines()]"
   ]
  },
  {
   "cell_type": "code",
   "execution_count": 2,
   "metadata": {},
   "outputs": [
    {
     "name": "stdout",
     "output_type": "stream",
     "text": [
      "Strategy one would yield a total score of 13526\n"
     ]
    }
   ],
   "source": [
    "total_score_1 = 0\n",
    "for match in matches:\n",
    "    total_score_1 += ord(match[1])-ord(\"X\")+1 + ((ord(match[1]) - ord(\"X\") - (ord(match[0]) - ord(\"A\"))+1) % 3) * 3\n",
    "print(\"Strategy one would yield a total score of\", total_score_1)"
   ]
  },
  {
   "cell_type": "markdown",
   "metadata": {},
   "source": [
    "## Part 2"
   ]
  },
  {
   "cell_type": "code",
   "execution_count": 3,
   "metadata": {},
   "outputs": [
    {
     "name": "stdout",
     "output_type": "stream",
     "text": [
      "Strategy two would yield a total score of 14204\n"
     ]
    }
   ],
   "source": [
    "total_score_2 = 0\n",
    "for match in matches:\n",
    "    outcome = ord(match[1]) - ord('X')\n",
    "    total_score_2 +=  outcome * 3 + (ord(match[0]) + outcome) % 3 + 1\n",
    "print(\"Strategy two would yield a total score of\", total_score_2)"
   ]
  }
 ],
 "metadata": {
  "kernelspec": {
   "display_name": "Python 3.10.6 64-bit",
   "language": "python",
   "name": "python3"
  },
  "language_info": {
   "codemirror_mode": {
    "name": "ipython",
    "version": 3
   },
   "file_extension": ".py",
   "mimetype": "text/x-python",
   "name": "python",
   "nbconvert_exporter": "python",
   "pygments_lexer": "ipython3",
   "version": "3.10.6"
  },
  "orig_nbformat": 4,
  "vscode": {
   "interpreter": {
    "hash": "e7370f93d1d0cde622a1f8e1c04877d8463912d04d973331ad4851f04de6915a"
   }
  }
 },
 "nbformat": 4,
 "nbformat_minor": 2
}
