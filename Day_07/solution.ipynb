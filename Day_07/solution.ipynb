{
 "cells": [
  {
   "cell_type": "markdown",
   "metadata": {},
   "source": [
    "# Day 7\n",
    "![drawing of christmas elves gathering around a computer screen, in a tropical jungle, jungle in the background](./update.jpg \"Update\")\n",
    "## Part 1"
   ]
  },
  {
   "cell_type": "code",
   "execution_count": 1,
   "metadata": {},
   "outputs": [
    {
     "name": "stdout",
     "output_type": "stream",
     "text": [
      "The total size of directories which are smaller than 100000 is 1583951\n"
     ]
    }
   ],
   "source": [
    "import re\n",
    "\n",
    "with open(\"input.txt\", \"r\") as file:\n",
    "    lines = file.readlines()\n",
    "\n",
    "file_pattern = re.compile(\"(\\d+) \\w+\")\n",
    "dir_sizes = []\n",
    "stack = []\n",
    "\n",
    "for line in lines:\n",
    "    if line == \"$ cd ..\\n\":\n",
    "        dir_sizes.append(stack.pop(-1))\n",
    "    elif line[:5] == \"$ cd \":\n",
    "        stack.append(0)\n",
    "    else:\n",
    "        files = file_pattern.findall(line)\n",
    "        for file in files:\n",
    "            for i in range(len(stack)):\n",
    "                stack[i] += int(file)\n",
    "dir_sizes += stack\n",
    "print(\"The total size of directories which are smaller than 100000 is\", sum(size for size in dir_sizes if size <= 100000))"
   ]
  },
  {
   "cell_type": "markdown",
   "metadata": {},
   "source": [
    "## Part 2"
   ]
  },
  {
   "cell_type": "code",
   "execution_count": 2,
   "metadata": {},
   "outputs": [
    {
     "name": "stdout",
     "output_type": "stream",
     "text": [
      "The total size of the directory to delete is 214171\n"
     ]
    }
   ],
   "source": [
    "dir_sizes.sort()\n",
    "must_free = -40000000 + dir_sizes[-1]\n",
    "for size in dir_sizes:\n",
    "    if size >= must_free:\n",
    "        print(\"The total size of the directory to delete is\", size)\n",
    "        break"
   ]
  }
 ],
 "metadata": {
  "kernelspec": {
   "display_name": "Python 3.10.6 64-bit",
   "language": "python",
   "name": "python3"
  },
  "language_info": {
   "codemirror_mode": {
    "name": "ipython",
    "version": 3
   },
   "file_extension": ".py",
   "mimetype": "text/x-python",
   "name": "python",
   "nbconvert_exporter": "python",
   "pygments_lexer": "ipython3",
   "version": "3.10.6"
  },
  "orig_nbformat": 4,
  "vscode": {
   "interpreter": {
    "hash": "767d51c1340bd893661ea55ea3124f6de3c7a262a8b4abca0554b478b1e2ff90"
   }
  }
 },
 "nbformat": 4,
 "nbformat_minor": 2
}
