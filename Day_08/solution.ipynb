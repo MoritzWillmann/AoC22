{
 "cells": [
  {
   "cell_type": "markdown",
   "metadata": {},
   "source": [
    "# Day 8\n",
    "## Part 1"
   ]
  },
  {
   "cell_type": "code",
   "execution_count": 1,
   "metadata": {},
   "outputs": [
    {
     "name": "stdout",
     "output_type": "stream",
     "text": [
      "1715 trees are visible\n"
     ]
    }
   ],
   "source": [
    "import numpy as np\n",
    "with open(\"input.txt\", \"r\") as file:\n",
    "    forest = np.array([list(line.rstrip(\"\\n\")) for line in file.readlines()], dtype=int)\n",
    "\n",
    "(m, n) = forest.shape\n",
    "visible = np.ones((4, m, n), dtype=bool)\n",
    "\n",
    "for j in range(1, n-1):\n",
    "    for i in range(1, m-1):\n",
    "        for d, dir in enumerate([(None, -1), (None, 1), (-1, None), (1,None)]):\n",
    "            if dir[0]:\n",
    "                visible[d, i, j] = np.all(forest[i+dir[0]::dir[0], j] < forest[i, j])\n",
    "            elif dir[1]:\n",
    "                visible[d, i, j] = np.all(forest[i, j+dir[1]::dir[1]] < forest[i, j])\n",
    "print(np.sum(np.any(visible, axis=0)), \"trees are visible\")"
   ]
  },
  {
   "cell_type": "markdown",
   "metadata": {},
   "source": [
    "## Part 2"
   ]
  },
  {
   "cell_type": "code",
   "execution_count": 2,
   "metadata": {},
   "outputs": [
    {
     "name": "stdout",
     "output_type": "stream",
     "text": [
      "The highest scenic score is 374400\n"
     ]
    }
   ],
   "source": [
    "view = np.zeros((4, m, n), dtype=int)\n",
    "\n",
    "for j in range(1, n-1):\n",
    "    for i in range(1, m-1):\n",
    "        for d, dir in enumerate([(None, -1), (None, 1), (-1, None), (1,None)]):\n",
    "            if dir[0]:\n",
    "                v = forest[i+dir[0]::dir[0], j]\n",
    "            elif dir[1]:\n",
    "                v = forest[i, j+dir[1]::dir[1]]\n",
    "            if np.any(v >= forest[i, j]):\n",
    "                view[d, i, j] = np.where(v >= forest[i, j])[0][0]+1\n",
    "            else:\n",
    "                view[d, i, j] = len(v)\n",
    "\n",
    "print(\"The highest scenic score is\", np.max(np.prod(view, axis=0)))"
   ]
  }
 ],
 "metadata": {
  "kernelspec": {
   "display_name": "Python 3.10.6 64-bit",
   "language": "python",
   "name": "python3"
  },
  "language_info": {
   "codemirror_mode": {
    "name": "ipython",
    "version": 3
   },
   "file_extension": ".py",
   "mimetype": "text/x-python",
   "name": "python",
   "nbconvert_exporter": "python",
   "pygments_lexer": "ipython3",
   "version": "3.10.6"
  },
  "orig_nbformat": 4,
  "vscode": {
   "interpreter": {
    "hash": "e7370f93d1d0cde622a1f8e1c04877d8463912d04d973331ad4851f04de6915a"
   }
  }
 },
 "nbformat": 4,
 "nbformat_minor": 2
}
