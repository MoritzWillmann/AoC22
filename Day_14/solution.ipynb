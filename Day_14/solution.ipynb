{
 "cells": [
  {
   "attachments": {},
   "cell_type": "markdown",
   "metadata": {},
   "source": [
    "# Day 14\n",
    "![drawing of christmas elf standing in a cave behind a waterfall, sand falling from the ceiling](./cave.jpg \"Cave\")\n",
    "## Part 1"
   ]
  },
  {
   "cell_type": "code",
   "execution_count": 1,
   "metadata": {},
   "outputs": [],
   "source": [
    "occupied = []\n",
    "lowest = 0\n",
    "with open(\"input.txt\", \"r\") as file:\n",
    "    for obstacle in file.readlines():\n",
    "        verteces =[tuple(map(int, vertex.split(\",\"))) for vertex in obstacle.strip(\"\\n\").split(\" -> \")]\n",
    "        for i in range(1, len(verteces)):\n",
    "            if verteces[i][1] == verteces[i-1][1]:\n",
    "                y = verteces[i][1]\n",
    "                x_dir = verteces[i][0] - verteces[i-1][0]\n",
    "                x_dir /= abs(x_dir)\n",
    "                for x in range(verteces[i-1][0], verteces[i][0], int(x_dir)):\n",
    "                    occupied.append((x,y))\n",
    "            elif verteces[i][0] == verteces[i-1][0]:\n",
    "                x = verteces[i][0]\n",
    "                y_dir = verteces[i][1] - verteces[i-1][1]\n",
    "                y_dir /= abs(y_dir)\n",
    "                for y in range(verteces[i-1][1], verteces[i][1], int(y_dir)):\n",
    "                    occupied.append((x,y))\n",
    "        occupied.append(verteces[-1])\n",
    "\n",
    "lowest = max(o[1] for o in occupied)\n",
    "floor = lowest + 2"
   ]
  },
  {
   "cell_type": "code",
   "execution_count": 2,
   "metadata": {},
   "outputs": [
    {
     "name": "stdout",
     "output_type": "stream",
     "text": [
      "The number of units of sand that the structure can keep from falling is 828\n"
     ]
    }
   ],
   "source": [
    "entry = (500,0)\n",
    "previous = {}\n",
    "\n",
    "def next(position): return [(position[0], position[1]+1), (position[0]-1, position[1]+1), (position[0]+1, position[1]+1)]\n",
    "sand = []\n",
    "unit = entry\n",
    "\n",
    "while unit[1] < lowest:\n",
    "    moved = False\n",
    "    for pos in next(unit):\n",
    "        if pos not in occupied + sand:\n",
    "            previous[pos] = unit\n",
    "            unit = pos\n",
    "            moved = True\n",
    "            break\n",
    "    if not moved:\n",
    "        if unit not in sand:\n",
    "            sand.append(unit)\n",
    "        unit = previous[unit]\n",
    "print(\"The number of units of sand that the structure can keep from falling is\", len(sand))\n"
   ]
  },
  {
   "attachments": {},
   "cell_type": "markdown",
   "metadata": {},
   "source": [
    "## Part 2"
   ]
  },
  {
   "cell_type": "code",
   "execution_count": 3,
   "metadata": {},
   "outputs": [
    {
     "name": "stdout",
     "output_type": "stream",
     "text": [
      "The total number of units of sand that can fall is 25500\n"
     ]
    }
   ],
   "source": [
    "entry = (500,0)\n",
    "previous = {}\n",
    "\n",
    "def next(position): return [(position[0], position[1]+1), (position[0]-1, position[1]+1), (position[0]+1, position[1]+1)]\n",
    "\n",
    "sand = []\n",
    "unit = entry\n",
    "\n",
    "while True:\n",
    "    moved = False\n",
    "    for pos in next(unit):\n",
    "        if pos[1] < floor and pos not in occupied + sand:\n",
    "            previous[pos] = unit\n",
    "            unit = pos\n",
    "            moved = True\n",
    "            break\n",
    "    if not moved:\n",
    "        if unit not in sand:\n",
    "            sand.append(unit)\n",
    "        if unit not in previous.keys():\n",
    "            break\n",
    "        unit = previous[unit]\n",
    "print(\"The total number of units of sand that can fall is\", len(sand))\n"
   ]
  }
 ],
 "metadata": {
  "kernelspec": {
   "display_name": "Python 3",
   "language": "python",
   "name": "python3"
  },
  "language_info": {
   "codemirror_mode": {
    "name": "ipython",
    "version": 3
   },
   "file_extension": ".py",
   "mimetype": "text/x-python",
   "name": "python",
   "nbconvert_exporter": "python",
   "pygments_lexer": "ipython3",
   "version": "3.10.6"
  },
  "orig_nbformat": 4,
  "vscode": {
   "interpreter": {
    "hash": "e7370f93d1d0cde622a1f8e1c04877d8463912d04d973331ad4851f04de6915a"
   }
  }
 },
 "nbformat": 4,
 "nbformat_minor": 2
}
