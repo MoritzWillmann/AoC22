{
 "cells": [
  {
   "attachments": {},
   "cell_type": "markdown",
   "metadata": {},
   "source": [
    "# Day 9\n",
    "![drawing of christmas elves on a hanging bridge made from ropes in the jungle](./bridge.jpg \"Bridge\")\n",
    "## Part 1"
   ]
  },
  {
   "cell_type": "code",
   "execution_count": 1,
   "metadata": {},
   "outputs": [
    {
     "name": "stdout",
     "output_type": "stream",
     "text": [
      "The tail visits 6464 positions\n"
     ]
    }
   ],
   "source": [
    "import numpy as np\n",
    "with open(\"input.txt\", \"r\") as file:\n",
    "    motions = [line.rstrip(\"\\n\").split(\" \") for line in file.readlines()]\n",
    "\n",
    "head_motion_dir = {\"U\": np.array([0, 1]), \"D\": np.array([0, -1]), \"R\": np.array([1, 0]), \"L\": np.array([-1, 0])}\n",
    "tail_motion_dir = np.stack(np.meshgrid([-1, -1, 0, 1, 1], [-1, -1, 0, 1, 1]))\n",
    "tail_motion_dir[:, 1:4, 1:4] = 0\n",
    "\n",
    "visited = []\n",
    "rope = [np.array([0,0], dtype=int) for _ in range(2)]\n",
    "\n",
    "for motion in motions:\n",
    "    head_dir = head_motion_dir[motion[0]]\n",
    "    for _ in range(int(motion[1])):\n",
    "        if list(rope[-1]) not in visited:\n",
    "            visited.append(list(rope[-1]))\n",
    "        rope[0] += head_dir\n",
    "        for i in range(1, 2):\n",
    "            dist = rope[i-1] - rope[i]\n",
    "            tail_dir = tail_motion_dir[:, 2+dist[1], 2+dist[0]]\n",
    "            rope[i] += tail_dir\n",
    "if list(rope[-1]) not in visited:\n",
    "    visited.append(list(rope[-1]))\n",
    "print(\"The tail visits\", len(visited), \"positions\")"
   ]
  },
  {
   "attachments": {},
   "cell_type": "markdown",
   "metadata": {},
   "source": [
    "## Part 2"
   ]
  },
  {
   "cell_type": "code",
   "execution_count": 2,
   "metadata": {},
   "outputs": [
    {
     "name": "stdout",
     "output_type": "stream",
     "text": [
      "The tail visits 2604 position\n"
     ]
    }
   ],
   "source": [
    "visited = []\n",
    "rope = [np.array([0,0], dtype=int) for _ in range(10)]\n",
    "\n",
    "for motion in motions:\n",
    "    head_dir = head_motion_dir[motion[0]]\n",
    "    for _ in range(int(motion[1])):\n",
    "        if list(rope[-1]) not in visited:\n",
    "            visited.append(list(rope[-1]))\n",
    "        rope[0] += head_dir\n",
    "        for i in range(1, 10):\n",
    "            dist = rope[i-1] - rope[i]\n",
    "            tail_dir = tail_motion_dir[:, 2+dist[1], 2+dist[0]]\n",
    "            rope[i] += tail_dir\n",
    "if list(rope[-1]) not in visited:\n",
    "    visited.append(list(rope[-1]))\n",
    "print(\"The tail visits\", len(visited), \"position\"+(\"\",\"s\")[len(visited)==0])"
   ]
  }
 ],
 "metadata": {
  "kernelspec": {
   "display_name": "Python 3.10.6 64-bit",
   "language": "python",
   "name": "python3"
  },
  "language_info": {
   "codemirror_mode": {
    "name": "ipython",
    "version": 3
   },
   "file_extension": ".py",
   "mimetype": "text/x-python",
   "name": "python",
   "nbconvert_exporter": "python",
   "pygments_lexer": "ipython3",
   "version": "3.10.6"
  },
  "orig_nbformat": 4,
  "vscode": {
   "interpreter": {
    "hash": "e7370f93d1d0cde622a1f8e1c04877d8463912d04d973331ad4851f04de6915a"
   }
  }
 },
 "nbformat": 4,
 "nbformat_minor": 2
}
