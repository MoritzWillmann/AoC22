{
 "cells": [
  {
   "cell_type": "markdown",
   "metadata": {},
   "source": [
    "# Day 4\n",
    "![drawing of a lot of cargo and baggage on a tropical beach, Christmas elves carrying heavy packages](./clean_up.jpg \"Clean Up\")\n",
    "## Part 1"
   ]
  },
  {
   "cell_type": "code",
   "execution_count": 1,
   "metadata": {},
   "outputs": [
    {
     "name": "stdout",
     "output_type": "stream",
     "text": [
      "466 pairs are completely overlapping\n"
     ]
    }
   ],
   "source": [
    "import numpy as np\n",
    "with open(\"input.txt\", \"r\") as file:\n",
    "    pairs = np.array([[elf.split(\"-\") for elf in line.strip().split(\",\")] for line in file.readlines()], dtype=int)\n",
    "print(\n",
    "    np.logical_or(\n",
    "        np.logical_and(pairs[:,0,0] <= pairs[:,1,0], pairs[:,0,1] >= pairs[:,1,1]),\n",
    "        np.logical_and(pairs[:,0,0] >= pairs[:,1,0], pairs[:,0,1] <= pairs[:,1,1])\n",
    "    ).sum(),\n",
    "    \"pairs are completely overlapping\"\n",
    ")"
   ]
  },
  {
   "cell_type": "markdown",
   "metadata": {},
   "source": [
    "## Part 2"
   ]
  },
  {
   "cell_type": "code",
   "execution_count": 2,
   "metadata": {},
   "outputs": [
    {
     "name": "stdout",
     "output_type": "stream",
     "text": [
      "865 pairs are partially overlapping\n"
     ]
    }
   ],
   "source": [
    "print(\n",
    "    np.logical_or(\n",
    "        np.logical_and(pairs[:,1,0] <= pairs[:,0,0], pairs[:,0,0] <= pairs[:,1,1]),\n",
    "        np.logical_and(pairs[:,1,0] <= pairs[:,0,1], pairs[:,0,0] <= pairs[:,1,1]),\n",
    "    ).sum(),\n",
    "    \"pairs are partially overlapping\"\n",
    ")"
   ]
  }
 ],
 "metadata": {
  "kernelspec": {
   "display_name": "Python 3.10.7 64-bit",
   "language": "python",
   "name": "python3"
  },
  "language_info": {
   "codemirror_mode": {
    "name": "ipython",
    "version": 3
   },
   "file_extension": ".py",
   "mimetype": "text/x-python",
   "name": "python",
   "nbconvert_exporter": "python",
   "pygments_lexer": "ipython3",
   "version": "3.10.7"
  },
  "orig_nbformat": 4,
  "vscode": {
   "interpreter": {
    "hash": "aee8b7b246df8f9039afb4144a1f6fd8d2ca17a180786b69acc140d282b71a49"
   }
  }
 },
 "nbformat": 4,
 "nbformat_minor": 2
}
