{
 "cells": [
  {
   "cell_type": "markdown",
   "metadata": {},
   "source": [
    "# Day 1\n",
    "![drawing of a group of christmas elves carrying cinnamon rolls and candy on a beach approaching a jungle](./elf_landing.jpg)\n",
    "## Part 1"
   ]
  },
  {
   "cell_type": "code",
   "execution_count": 5,
   "metadata": {},
   "outputs": [
    {
     "name": "stdout",
     "output_type": "stream",
     "text": [
      "The most food an elf is carrying is 70369 calories\n"
     ]
    }
   ],
   "source": [
    "with open(\"input.txt\") as  file:\n",
    "    lines = file.readlines()\n",
    "elves = []\n",
    "food = []\n",
    "for line in lines:\n",
    "    if line == \"\\n\":\n",
    "        elves.append(sum(food))\n",
    "        food = []\n",
    "    else:\n",
    "        food.append(int(line.strip()))\n",
    "print(\"The most food an elf is carrying is\", max(elves), \"calories\")"
   ]
  },
  {
   "cell_type": "markdown",
   "metadata": {},
   "source": [
    "## Part 2"
   ]
  },
  {
   "cell_type": "code",
   "execution_count": 8,
   "metadata": {},
   "outputs": [
    {
     "name": "stdout",
     "output_type": "stream",
     "text": [
      "The most food three elves are carrying is 203002 calories\n"
     ]
    }
   ],
   "source": [
    "print(\"The most food three elves are carrying is\", sum(sorted(elves, reverse=True)[:3]), \"calories\")"
   ]
  }
 ],
 "metadata": {
  "kernelspec": {
   "display_name": "Python 3.10.6 64-bit",
   "language": "python",
   "name": "python3"
  },
  "language_info": {
   "codemirror_mode": {
    "name": "ipython",
    "version": 3
   },
   "file_extension": ".py",
   "mimetype": "text/x-python",
   "name": "python",
   "nbconvert_exporter": "python",
   "pygments_lexer": "ipython3",
   "version": "3.10.6"
  },
  "orig_nbformat": 4,
  "vscode": {
   "interpreter": {
    "hash": "e7370f93d1d0cde622a1f8e1c04877d8463912d04d973331ad4851f04de6915a"
   }
  }
 },
 "nbformat": 4,
 "nbformat_minor": 2
}
