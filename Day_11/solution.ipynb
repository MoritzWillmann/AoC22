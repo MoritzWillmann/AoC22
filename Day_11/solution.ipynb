{
 "cells": [
  {
   "cell_type": "code",
   "execution_count": 1,
   "metadata": {},
   "outputs": [],
   "source": [
    "import re\n",
    "from math import prod\n",
    "from copy import deepcopy"
   ]
  },
  {
   "cell_type": "code",
   "execution_count": 2,
   "metadata": {},
   "outputs": [],
   "source": [
    "monkey_pattern = re.compile(\n",
    "    r\"Monkey \\d:\\n  Starting items: ([\\d\\, ]*)\\n\"\n",
    "    +\"  Operation: (.+)\\n\"\n",
    "    +\"  Test: divisible by (\\d+)\\n\"\n",
    "    +\"    If true: throw to monkey (\\d+)\\n\"\n",
    "    +\"    If false: throw to monkey (\\d+)\"\n",
    ")\n",
    "\n",
    "with open(\"input.txt\", \"r\") as file:\n",
    "    monkeys = list(map(list, monkey_pattern.findall(file.read())))\n",
    "    for monkey in monkeys:\n",
    "        monkey[0] = list(map(int, monkey[0].split(\", \")))"
   ]
  },
  {
   "cell_type": "code",
   "execution_count": 3,
   "metadata": {},
   "outputs": [
    {
     "name": "stdout",
     "output_type": "stream",
     "text": [
      "The level of monkey business is 50172\n"
     ]
    }
   ],
   "source": [
    "monkeys_1 = deepcopy(monkeys)\n",
    "items_per_monkey = [0 for _ in range(len(monkeys))]\n",
    "new = None\n",
    "\n",
    "for round in range(20):\n",
    "    for i, monkey in enumerate(monkeys_1):\n",
    "        items_per_monkey[i] += len(monkey[0])\n",
    "        while monkey[0]:\n",
    "            old = monkey[0].pop(0)\n",
    "            exec(monkey[1])\n",
    "            new //= 3\n",
    "            if new % int(monkey[2]):\n",
    "                monkeys_1[int(monkey[4])][0].append(new)\n",
    "            else:\n",
    "                monkeys_1[int(monkey[3])][0].append(new)\n",
    "\n",
    "items_per_monkey.sort()\n",
    "print(\"The level of monkey business is\", items_per_monkey[-1]*items_per_monkey[-2])"
   ]
  },
  {
   "cell_type": "code",
   "execution_count": 4,
   "metadata": {},
   "outputs": [
    {
     "name": "stdout",
     "output_type": "stream",
     "text": [
      "The level of monkey business is 11614682178\n"
     ]
    }
   ],
   "source": [
    "monkeys_2 = deepcopy(monkeys)\n",
    "items_per_monkey = [0 for _ in range(len(monkeys))]\n",
    "lcm = prod(int(monkey[2]) for monkey in monkeys_2)\n",
    "for round in range(10000):\n",
    "    for i, monkey in enumerate(monkeys_2):\n",
    "        items_per_monkey[i] += len(monkey[0])\n",
    "        while monkey[0]:\n",
    "            old = monkey[0].pop(0)\n",
    "            exec(monkey[1])\n",
    "            new %= lcm\n",
    "            if new % int(monkey[2]):\n",
    "                monkeys_2[int(monkey[4])][0].append(new)\n",
    "            else:\n",
    "                monkeys_2[int(monkey[3])][0].append(new)\n",
    "\n",
    "items_per_monkey.sort()\n",
    "print(\"The level of monkey business is\", items_per_monkey[-1]*items_per_monkey[-2])"
   ]
  }
 ],
 "metadata": {
  "kernelspec": {
   "display_name": "Python 3.10.7 64-bit",
   "language": "python",
   "name": "python3"
  },
  "language_info": {
   "codemirror_mode": {
    "name": "ipython",
    "version": 3
   },
   "file_extension": ".py",
   "mimetype": "text/x-python",
   "name": "python",
   "nbconvert_exporter": "python",
   "pygments_lexer": "ipython3",
   "version": "3.10.7"
  },
  "orig_nbformat": 4,
  "vscode": {
   "interpreter": {
    "hash": "aee8b7b246df8f9039afb4144a1f6fd8d2ca17a180786b69acc140d282b71a49"
   }
  }
 },
 "nbformat": 4,
 "nbformat_minor": 2
}
