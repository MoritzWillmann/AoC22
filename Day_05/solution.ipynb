{
 "cells": [
  {
   "cell_type": "markdown",
   "metadata": {},
   "source": [
    "# Day 5\n",
    "## Part 1"
   ]
  },
  {
   "cell_type": "code",
   "execution_count": 1,
   "metadata": {},
   "outputs": [
    {
     "name": "stdout",
     "output_type": "stream",
     "text": [
      "Moving the crates with the CrateMover 9000, the crates on top are JRVNHHCSJ\n"
     ]
    }
   ],
   "source": [
    "import re\n",
    "layers = []\n",
    "move_pattern = re.compile(r\"move (\\d+) from (\\d+) to (\\d+)\")\n",
    "with open(\"input.txt\", \"r\") as file:\n",
    "    line = file.readline().rstrip(\"\\n\")\n",
    "    while line[1] != \"1\":\n",
    "        layers.append(line)\n",
    "        line = file.readline().rstrip(\"\\n\")\n",
    "    stack_pos = [i for i in range(len(line)) if line[i].isnumeric()]\n",
    "    layers = [[layer[pos] for pos in stack_pos] for layer in layers[::-1]]\n",
    "    orig_stacks = layers[0]\n",
    "    for layer in layers[1:]:\n",
    "        for pos, item in enumerate(layer):\n",
    "            if item.isalpha():\n",
    "                orig_stacks[pos] += item\n",
    "    file.readline()\n",
    "    movements = [list(map(int, move_pattern.findall(line)[0])) for line in file.readlines()]\n",
    "\n",
    "stacks = orig_stacks.copy()\n",
    "for movement in movements:\n",
    "    stacks[movement[2]-1] += stacks[movement[1]-1][-movement[0]:][::-1]\n",
    "    stacks[movement[1]-1] = stacks[movement[1]-1][:-movement[0]]\n",
    "print(\"Moving the crates with the CrateMover 9000, the crates on top are\", \"\".join(stack[-1] for stack in stacks))"
   ]
  },
  {
   "cell_type": "markdown",
   "metadata": {},
   "source": [
    "## Part 2"
   ]
  },
  {
   "cell_type": "code",
   "execution_count": 2,
   "metadata": {},
   "outputs": [
    {
     "name": "stdout",
     "output_type": "stream",
     "text": [
      "Moving the crates with the CrateMover 9001, the crates on top are GNFBSBJLH\n"
     ]
    }
   ],
   "source": [
    "stacks = orig_stacks.copy()\n",
    "for movement in movements:\n",
    "    stacks[movement[2]-1] += stacks[movement[1]-1][-movement[0]:]\n",
    "    stacks[movement[1]-1] = stacks[movement[1]-1][:-movement[0]]\n",
    "print(\"Moving the crates with the CrateMover 9001, the crates on top are\", \"\".join(stack[-1] for stack in stacks))"
   ]
  }
 ],
 "metadata": {
  "kernelspec": {
   "display_name": "Python 3.10.6 64-bit",
   "language": "python",
   "name": "python3"
  },
  "language_info": {
   "codemirror_mode": {
    "name": "ipython",
    "version": 3
   },
   "file_extension": ".py",
   "mimetype": "text/x-python",
   "name": "python",
   "nbconvert_exporter": "python",
   "pygments_lexer": "ipython3",
   "version": "3.10.6"
  },
  "orig_nbformat": 4,
  "vscode": {
   "interpreter": {
    "hash": "767d51c1340bd893661ea55ea3124f6de3c7a262a8b4abca0554b478b1e2ff90"
   }
  }
 },
 "nbformat": 4,
 "nbformat_minor": 2
}
