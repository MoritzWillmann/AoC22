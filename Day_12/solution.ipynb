{
 "cells": [
  {
   "attachments": {},
   "cell_type": "markdown",
   "metadata": {},
   "source": [
    "# Day 12\n",
    "![drawing of christmas elf wearing a backpack and hiking boots in a tropical jungle](./hiking.jpg \"Hiking\")"
   ]
  },
  {
   "cell_type": "code",
   "execution_count": 1,
   "metadata": {},
   "outputs": [],
   "source": [
    "import numpy as np\n",
    "with open(\"input.txt\", \"r\") as file:\n",
    "    GRID = np.array(list(list(map(ord, list(row))) for row in file.readlines()), dtype=int)\n",
    "\n",
    "m,n = GRID.shape\n",
    "\n",
    "start = tuple(np.argwhere(GRID==ord(\"S\"))[0])\n",
    "end = tuple(np.argwhere(GRID==ord(\"E\"))[0])\n",
    "GRID[start] = ord(\"a\")\n",
    "GRID[end] = ord(\"z\")"
   ]
  },
  {
   "attachments": {},
   "cell_type": "markdown",
   "metadata": {},
   "source": [
    "## Part 1"
   ]
  },
  {
   "cell_type": "code",
   "execution_count": 2,
   "metadata": {},
   "outputs": [
    {
     "name": "stdout",
     "output_type": "stream",
     "text": [
      "The minimum number of steps required is 408\n"
     ]
    }
   ],
   "source": [
    "queue = [start]\n",
    "visited = [start]\n",
    "cost = {start: 0}\n",
    "parent = {start: None}\n",
    "\n",
    "while queue[0] != end:\n",
    "    queue.sort(key = lambda x: cost[x])\n",
    "    this = queue.pop(0)\n",
    "    \n",
    "    neighbors = [\n",
    "        neighbor for neighbor in [(this[0], this[1]-1), (this[0], this[1]+1), (this[0]-1, this[1]), (this[0]+1, this[1])]\n",
    "        if (\n",
    "            neighbor not in visited\n",
    "            and 0 <= neighbor[0] < m\n",
    "            and 0 <= neighbor[1] < n\n",
    "            and GRID[neighbor] - GRID[this] <= 1\n",
    "        )\n",
    "    ]\n",
    "\n",
    "    for neighbor in neighbors:\n",
    "        queue.append(neighbor)\n",
    "        this_cost = cost[this] + GRID[neighbor] - GRID[this] + np.linalg.norm(np.array(end) - np.array(this))\n",
    "        if neighbor not in cost.keys() or this_cost < cost[neighbor]:\n",
    "            cost[neighbor] = this_cost\n",
    "            parent[neighbor] = this\n",
    "        visited.append(neighbor)\n",
    "\n",
    "steps = 0\n",
    "this = end\n",
    "while this != start:\n",
    "    this = parent[this]\n",
    "    steps += 1\n",
    "\n",
    "print(\"The minimum number of steps required is\", steps)\n",
    "\n"
   ]
  },
  {
   "attachments": {},
   "cell_type": "markdown",
   "metadata": {},
   "source": [
    "## Part 2"
   ]
  },
  {
   "cell_type": "code",
   "execution_count": 3,
   "metadata": {},
   "outputs": [
    {
     "name": "stdout",
     "output_type": "stream",
     "text": [
      "The number of steps required on the shortest hike is 399\n"
     ]
    }
   ],
   "source": [
    "queue = [end]\n",
    "visited = [end]\n",
    "cost = {end: 0}\n",
    "parent = {end: None}\n",
    "\n",
    "while GRID[queue[0]] != ord(\"a\"):\n",
    "    this = queue.pop(0)\n",
    "    \n",
    "    neighbors = [\n",
    "        neighbor for neighbor in [(this[0], this[1]-1), (this[0], this[1]+1), (this[0]-1, this[1]), (this[0]+1, this[1])]\n",
    "        if (\n",
    "            neighbor not in visited\n",
    "            and 0 <= neighbor[0] < m\n",
    "            and 0 <= neighbor[1] < n\n",
    "            and GRID[this] - GRID[neighbor] <= 1\n",
    "        )\n",
    "    ]\n",
    "\n",
    "    for neighbor in neighbors:\n",
    "        queue.append(neighbor)\n",
    "        this_cost = cost[this] + GRID[neighbor] - GRID[this]\n",
    "        if neighbor not in cost.keys() or this_cost < cost[neighbor]:\n",
    "            cost[neighbor] = this_cost\n",
    "            parent[neighbor] = this\n",
    "        visited.append(neighbor)\n",
    "\n",
    "steps = 0\n",
    "this = queue[0]\n",
    "while this != end:\n",
    "    this = parent[this]\n",
    "    steps += 1\n",
    "\n",
    "print(\"The number of steps required on the shortest hike is\", steps)"
   ]
  }
 ],
 "metadata": {
  "kernelspec": {
   "display_name": "Python 3",
   "language": "python",
   "name": "python3"
  },
  "language_info": {
   "codemirror_mode": {
    "name": "ipython",
    "version": 3
   },
   "file_extension": ".py",
   "mimetype": "text/x-python",
   "name": "python",
   "nbconvert_exporter": "python",
   "pygments_lexer": "ipython3",
   "version": "3.10.6 (main, Nov 14 2022, 16:10:14) [GCC 11.3.0]"
  },
  "orig_nbformat": 4,
  "vscode": {
   "interpreter": {
    "hash": "e7370f93d1d0cde622a1f8e1c04877d8463912d04d973331ad4851f04de6915a"
   }
  }
 },
 "nbformat": 4,
 "nbformat_minor": 2
}
