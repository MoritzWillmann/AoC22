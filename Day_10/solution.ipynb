{
 "cells": [
  {
   "cell_type": "markdown",
   "metadata": {},
   "source": [
    "# Day 10\n",
    "![drawing of a christmas elf in a tropical jungle, the elf is holding an old tv](./crt_tv.jpg \"CRT TV\")\n",
    "## Part 1"
   ]
  },
  {
   "cell_type": "code",
   "execution_count": 1,
   "metadata": {},
   "outputs": [
    {
     "name": "stdout",
     "output_type": "stream",
     "text": [
      "The sum of the signal strengths is 12740\n"
     ]
    }
   ],
   "source": [
    "with open(\"input.txt\", \"r\") as file:\n",
    "    ops = [line.rstrip(\"\\n\").split(\" \") for line in file.readlines()]\n",
    "\n",
    "X = [1]\n",
    "cycle = 1\n",
    "i = 0\n",
    "\n",
    "wait = True\n",
    "while i < len(ops):\n",
    "    cycle += 1\n",
    "    op = ops[i]\n",
    "    if op[0] == \"noop\":\n",
    "        i += 1\n",
    "        X.append(X[-1])\n",
    "    elif wait:\n",
    "        wait = False\n",
    "        X.append(X[-1])\n",
    "    else:\n",
    "        wait = True\n",
    "        X.append(X[-1] + int(op[1]))\n",
    "        i += 1\n",
    "\n",
    "signal_strength = 0\n",
    "for i in range(20, 221, 40):\n",
    "    signal_strength += i*X[i-1]\n",
    "print(\"The sum of the signal strengths is\", signal_strength)"
   ]
  },
  {
   "cell_type": "markdown",
   "metadata": {},
   "source": [
    "## Part 2"
   ]
  },
  {
   "cell_type": "code",
   "execution_count": 2,
   "metadata": {},
   "outputs": [
    {
     "name": "stdout",
     "output_type": "stream",
     "text": [
      "###..###..###...##..###...##...##..####.\n",
      "#..#.#..#.#..#.#..#.#..#.#..#.#..#.#....\n",
      "#..#.###..#..#.#..#.#..#.#..#.#....###..\n",
      "###..#..#.###..####.###..####.#.##.#....\n",
      "#.#..#..#.#....#..#.#.#..#..#.#..#.#....\n",
      "#..#.###..#....#..#.#..#.#..#..###.#....\n",
      "\n"
     ]
    }
   ],
   "source": [
    "output = \"\"\n",
    "for i, x in enumerate(X[:-1]):\n",
    "    if (i % 40) + 1 in range(x, x+3):\n",
    "        output += \"#\"\n",
    "    else:\n",
    "        output += \".\"\n",
    "    if i % 40 == 39:\n",
    "        output += \"\\n\"\n",
    "print(output)\n"
   ]
  }
 ],
 "metadata": {
  "kernelspec": {
   "display_name": "Python 3.10.7 64-bit",
   "language": "python",
   "name": "python3"
  },
  "language_info": {
   "codemirror_mode": {
    "name": "ipython",
    "version": 3
   },
   "file_extension": ".py",
   "mimetype": "text/x-python",
   "name": "python",
   "nbconvert_exporter": "python",
   "pygments_lexer": "ipython3",
   "version": "3.10.7"
  },
  "orig_nbformat": 4,
  "vscode": {
   "interpreter": {
    "hash": "aee8b7b246df8f9039afb4144a1f6fd8d2ca17a180786b69acc140d282b71a49"
   }
  }
 },
 "nbformat": 4,
 "nbformat_minor": 2
}
