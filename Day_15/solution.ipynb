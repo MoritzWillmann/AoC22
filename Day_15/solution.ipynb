{
 "cells": [
  {
   "attachments": {},
   "cell_type": "markdown",
   "metadata": {},
   "source": [
    "# Day 15\n",
    "## Part 1"
   ]
  },
  {
   "cell_type": "code",
   "execution_count": 1,
   "metadata": {},
   "outputs": [
    {
     "name": "stdout",
     "output_type": "stream",
     "text": [
      "The number of positions that cannot contain a beacon is 4748135\n"
     ]
    }
   ],
   "source": [
    "import re\n",
    "\n",
    "reading_pattern = re.compile(r\"Sensor at x=(-?\\d+), y=(-?\\d+): closest beacon is at x=(-?\\d+), y=(-?\\d+)\")\n",
    "\n",
    "with open(\"input.txt\", \"r\") as file:\n",
    "    readings = [list(map(int, reading)) for reading in reading_pattern.findall(file.read())]\n",
    "\n",
    "def find_unoccupied(readings, y):\n",
    "    unoccupied = []\n",
    "    beacon_in_y = []\n",
    "    for reading in readings:\n",
    "        if reading[3] == y:\n",
    "            beacon_in_y.append(reading[2])\n",
    "        \n",
    "        beacon_dist = abs(reading[0]-reading[2]) + abs(reading[1]-reading[3])\n",
    "        y_dist = abs(reading[1]-y)\n",
    "        if y_dist <= beacon_dist:\n",
    "            rem = beacon_dist - y_dist\n",
    "            unoccupied += list(range(reading[0]-rem, reading[0]+rem+1))\n",
    "    return set(unoccupied) - set(beacon_in_y), set(beacon_in_y)\n",
    "\n",
    "unoccupied, _ = find_unoccupied(readings, 2000000)\n",
    "\n",
    "print(\"The number of positions that cannot contain a beacon is\", len(unoccupied))"
   ]
  },
  {
   "attachments": {},
   "cell_type": "markdown",
   "metadata": {},
   "source": [
    "## Part 2"
   ]
  },
  {
   "cell_type": "code",
   "execution_count": 2,
   "metadata": {},
   "outputs": [
    {
     "name": "stdout",
     "output_type": "stream",
     "text": [
      "The tuning frequency is 13743542639657\n"
     ]
    }
   ],
   "source": [
    "for reading in readings:\n",
    "    beacon_dist = abs(reading[0]-reading[2]) + abs(reading[1]-reading[3])\n",
    "    reading += [reading[1]-beacon_dist, reading[1]+beacon_dist, beacon_dist]\n",
    "\n",
    "for y in range(4000001):\n",
    "    unoccupied = []\n",
    "    for reading in readings:\n",
    "        if y in range(reading[4], reading[5]+1):\n",
    "            y_dist = abs(reading[1]-y)\n",
    "            rem = abs(reading[6] - y_dist)\n",
    "            unoccupied.append([min(max(0, reading[0]-rem), 4000000), min(max(0, reading[0]+rem), 4000000)])\n",
    "    unoccupied.sort()\n",
    "    total = []\n",
    "    total.append(unoccupied[0])\n",
    "    for interval in unoccupied[1:]:\n",
    "        if total[-1][0] <= interval[0] <= total[-1][1]:\n",
    "            total[-1][1] = max(total[-1][1], interval[1])\n",
    "        else:\n",
    "            total.append(interval)\n",
    "    if len(total) > 1:\n",
    "        print(\"The tuning frequency is\", (total[0][1] + 1) * 4000000 + y)\n",
    "        break"
   ]
  }
 ],
 "metadata": {
  "kernelspec": {
   "display_name": "Python 3",
   "language": "python",
   "name": "python3"
  },
  "language_info": {
   "codemirror_mode": {
    "name": "ipython",
    "version": 3
   },
   "file_extension": ".py",
   "mimetype": "text/x-python",
   "name": "python",
   "nbconvert_exporter": "python",
   "pygments_lexer": "ipython3",
   "version": "3.10.6"
  },
  "orig_nbformat": 4,
  "vscode": {
   "interpreter": {
    "hash": "e7370f93d1d0cde622a1f8e1c04877d8463912d04d973331ad4851f04de6915a"
   }
  }
 },
 "nbformat": 4,
 "nbformat_minor": 2
}
